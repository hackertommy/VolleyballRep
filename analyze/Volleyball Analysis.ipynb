{
 "cells": [
  {
   "cell_type": "code",
   "execution_count": 29,
   "metadata": {},
   "outputs": [],
   "source": [
    "%matplotlib inline\n",
    "\n",
    "import glob\n",
    "import numpy as np\n",
    "import sklearn.linear_model\n",
    "import sys\n",
    "import os\n",
    "import json"
   ]
  },
  {
   "cell_type": "code",
   "execution_count": 30,
   "metadata": {},
   "outputs": [],
   "source": [
    "def load_vball_data():\n",
    "    games = []\n",
    "    for vball_json_filename in glob.glob('data/json/*.json'):\n",
    "        with open(vball_json_filename, 'r') as vball_json:\n",
    "            games.append(json.load(vball_json))\n",
    "    return games\n",
    "\n",
    "GAMES = load_vball_data()"
   ]
  },
  {
   "cell_type": "code",
   "execution_count": 31,
   "metadata": {},
   "outputs": [
    {
     "data": {
      "text/plain": [
       "{u'games': [{u'left': u'team_a',\n",
       "   u'left_score': 26,\n",
       "   u'left_timeouts': [[21, 23]],\n",
       "   u'right': u'team_b',\n",
       "   u'right_score': 24,\n",
       "   u'right_timeouts': [[16, 17]],\n",
       "   u'scores': [[0, 1],\n",
       "    [0, 2],\n",
       "    [0, 3],\n",
       "    [0, 4],\n",
       "    [1, 4],\n",
       "    [2, 4],\n",
       "    [2, 5],\n",
       "    [3, 5],\n",
       "    [4, 5],\n",
       "    [5, 5],\n",
       "    [5, 6],\n",
       "    [5, 7],\n",
       "    [6, 7],\n",
       "    [7, 7],\n",
       "    [8, 7],\n",
       "    [9, 7],\n",
       "    [9, 8],\n",
       "    [9, 9],\n",
       "    [10, 9],\n",
       "    [10, 10],\n",
       "    [11, 10],\n",
       "    [11, 11],\n",
       "    [12, 11],\n",
       "    [12, 12],\n",
       "    [12, 13],\n",
       "    [12, 14],\n",
       "    [12, 15],\n",
       "    [13, 15],\n",
       "    [13, 16],\n",
       "    [14, 16],\n",
       "    [15, 16],\n",
       "    [16, 16],\n",
       "    [17, 16],\n",
       "    [18, 16],\n",
       "    [19, 16],\n",
       "    [19, 17],\n",
       "    [19, 18],\n",
       "    [19, 19],\n",
       "    [20, 19],\n",
       "    [20, 20],\n",
       "    [20, 21],\n",
       "    [21, 21],\n",
       "    [21, 22],\n",
       "    [21, 23],\n",
       "    [22, 23],\n",
       "    [23, 23],\n",
       "    [23, 24],\n",
       "    [24, 24],\n",
       "    [25, 24],\n",
       "    [26, 24]],\n",
       "   u'server': u'left'},\n",
       "  {u'left': u'team_b',\n",
       "   u'left_score': 16,\n",
       "   u'left_timeouts': [[4, 8], [12, 19]],\n",
       "   u'right': u'team_a',\n",
       "   u'right_score': 25,\n",
       "   u'right_timeouts': [],\n",
       "   u'scores': [[1, 0],\n",
       "    [1, 1],\n",
       "    [1, 2],\n",
       "    [2, 2],\n",
       "    [2, 3],\n",
       "    [2, 4],\n",
       "    [3, 4],\n",
       "    [3, 5],\n",
       "    [3, 6],\n",
       "    [4, 6],\n",
       "    [4, 7],\n",
       "    [4, 8],\n",
       "    [4, 9],\n",
       "    [5, 9],\n",
       "    [5, 10],\n",
       "    [6, 10],\n",
       "    [7, 10],\n",
       "    [7, 11],\n",
       "    [8, 11],\n",
       "    [9, 11],\n",
       "    [9, 12],\n",
       "    [10, 12],\n",
       "    [10, 13],\n",
       "    [10, 14],\n",
       "    [10, 15],\n",
       "    [11, 15],\n",
       "    [12, 15],\n",
       "    [12, 16],\n",
       "    [12, 17],\n",
       "    [12, 18],\n",
       "    [12, 19],\n",
       "    [13, 19],\n",
       "    [13, 20],\n",
       "    [13, 21],\n",
       "    [13, 22],\n",
       "    [14, 22],\n",
       "    [15, 22],\n",
       "    [15, 23],\n",
       "    [15, 24],\n",
       "    [16, 24],\n",
       "    [16, 25]],\n",
       "   u'server': u'left'}],\n",
       " u'match_id': u'00a248ee-689c-4655-9ae1-527e7e71b248',\n",
       " u'team_a': u'D1 Elite',\n",
       " u'team_b': u'Indy Elite',\n",
       " u'winner': u'team_a'}"
      ]
     },
     "execution_count": 31,
     "metadata": {},
     "output_type": "execute_result"
    }
   ],
   "source": [
    "GAMES[0]"
   ]
  },
  {
   "cell_type": "code",
   "execution_count": 32,
   "metadata": {},
   "outputs": [],
   "source": [
    "# This will return two lists, one of scores in format [a, b], another list of [1 if timeout taken, 0 otherwise]\n",
    "def get_naive_timeout_datapoints(matches):\n",
    "    X = []\n",
    "    y = []\n",
    "    for match in matches:\n",
    "        for game in match['games']:\n",
    "            timeouts = []\n",
    "            timeouts.extend(\n",
    "                [tuple(timeout) for timeout in game.get('left_timeouts', [])\n",
    "            ])\n",
    "            timeouts.extend([\n",
    "                tuple(timeout) for timeout in game.get('right_timeouts', [])\n",
    "            ])\n",
    "            timeouts.extend([\n",
    "                tuple(timeout) for timeout in game.get('middle_timeouts', [])\n",
    "            ])\n",
    "            for score in game['scores']:\n",
    "                X.append(score)\n",
    "                score = tuple(score)\n",
    "                if score in timeouts:\n",
    "                    y.append(1)\n",
    "                else:\n",
    "                    y.append(0)\n",
    "    return np.array(X), np.array(y)"
   ]
  },
  {
   "cell_type": "code",
   "execution_count": 56,
   "metadata": {},
   "outputs": [
    {
     "name": "stdout",
     "output_type": "stream",
     "text": [
      "base_score 0.9705318714460746\n",
      "0.9705318714460746\n"
     ]
    },
    {
     "name": "stderr",
     "output_type": "stream",
     "text": [
      "[Parallel(n_jobs=1)]: Using backend SequentialBackend with 1 concurrent workers.\n",
      "[Parallel(n_jobs=1)]: Done   1 out of   1 | elapsed:    0.1s finished\n"
     ]
    }
   ],
   "source": [
    "def train_logistic_regression(X, y):\n",
    "    model = sklearn.linear_model.LogisticRegression(verbose=1, solver='lbfgs')\n",
    "    model.fit(X, y)\n",
    "    return model, model.score(X, y)\n",
    "\n",
    "X, y = get_naive_timeout_datapoints(GAMES)\n",
    "logistic_model, score = train_logistic_regression(X, y)\n",
    "print \"base_score\", 1.0 - np.mean(y)\n",
    "print score"
   ]
  },
  {
   "cell_type": "code",
   "execution_count": 55,
   "metadata": {},
   "outputs": [
    {
     "data": {
      "text/plain": [
       "array([0])"
      ]
     },
     "execution_count": 55,
     "metadata": {},
     "output_type": "execute_result"
    }
   ],
   "source": [
    "logistic_model.predict([[0, 10]])"
   ]
  },
  {
   "cell_type": "code",
   "execution_count": null,
   "metadata": {},
   "outputs": [],
   "source": []
  }
 ],
 "metadata": {
  "kernelspec": {
   "display_name": "Python 2",
   "language": "python",
   "name": "python2"
  },
  "language_info": {
   "codemirror_mode": {
    "name": "ipython",
    "version": 2
   },
   "file_extension": ".py",
   "mimetype": "text/x-python",
   "name": "python",
   "nbconvert_exporter": "python",
   "pygments_lexer": "ipython2",
   "version": "2.7.15"
  }
 },
 "nbformat": 4,
 "nbformat_minor": 2
}
