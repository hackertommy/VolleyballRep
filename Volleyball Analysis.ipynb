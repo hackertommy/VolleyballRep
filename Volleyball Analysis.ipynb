{
 "cells": [
  {
   "cell_type": "code",
   "execution_count": 319,
   "metadata": {},
   "outputs": [],
   "source": [
    "%matplotlib inline\n",
    "\n",
    "import glob\n",
    "import numpy as np\n",
    "import sklearn.linear_model\n",
    "from sklearn.metrics import average_precision_score\n",
    "import sys\n",
    "import os\n",
    "import json"
   ]
  },
  {
   "cell_type": "code",
   "execution_count": 320,
   "metadata": {},
   "outputs": [],
   "source": [
    "def load_vball_data():\n",
    "    games = []\n",
    "    for vball_json_filename in glob.glob('data/json/*.json'):\n",
    "        with open(vball_json_filename, 'r') as vball_json:\n",
    "            games.append(json.load(vball_json))\n",
    "    return games\n",
    "\n",
    "\n",
    "GAMES = load_vball_data()"
   ]
  },
  {
   "cell_type": "code",
   "execution_count": 321,
   "metadata": {},
   "outputs": [],
   "source": [
    "# This will return two lists, one of scores in format [a, b], another list of [1 if timeout taken, 0 otherwise]\n",
    "def get_naive_timeout_datapoints(matches):\n",
    "    X = []\n",
    "    y = []\n",
    "    for match in matches:\n",
    "        for game in match['games']:\n",
    "            timeouts = []\n",
    "            timeouts.extend(\n",
    "                [tuple(timeout) for timeout in game.get('left_timeouts', [])\n",
    "            ])\n",
    "            timeouts.extend([\n",
    "                tuple(timeout) for timeout in game.get('right_timeouts', [])\n",
    "            ])\n",
    "            timeouts.extend([\n",
    "                tuple(timeout) for timeout in game.get('middle_timeouts', [])\n",
    "            ])\n",
    "            for score in game['scores']:\n",
    "                X.append(score)\n",
    "                score = tuple(score)\n",
    "                if score in timeouts:\n",
    "                    y.append(1)\n",
    "                else:\n",
    "                    y.append(0)\n",
    "    return np.array(X), np.array(y)"
   ]
  },
  {
   "cell_type": "code",
   "execution_count": 322,
   "metadata": {},
   "outputs": [],
   "source": [
    "# This returns the points scored in a row by teams with the scores the run ended at, and if a timeout was called\n",
    "def get_feature_point_run(matches):\n",
    "    X = []\n",
    "    y = []\n",
    "    for match in matches:\n",
    "        for game in match['games']:\n",
    "            score_array = []\n",
    "            for scores in game['scores']:\n",
    "                score_array.append(scores)\n",
    "            try:\n",
    "                X.append([score_array[0][0], score_array[0][1], score_array[0][0], score_array[0][1]])\n",
    "                y.append(timeout_check(game, score_array[0]))\n",
    "            except IndexError:\n",
    "                continue\n",
    "            for score in score_array[1:]:\n",
    "                last_score = X[-1][:2]\n",
    "                last_run = X[-1][2:]\n",
    "                if (last_run[0] > 0):\n",
    "                    if (score[0] > last_score[0]):\n",
    "                        new_run = (last_run[0] + 1, 0)\n",
    "                    else:\n",
    "                        new_run = (0,1)\n",
    "                else:\n",
    "                    if (score[0] > last_score[0]):\n",
    "                        new_run = (1,0)\n",
    "                    else:\n",
    "                        new_run = (0, last_run[1] + 1)\n",
    "                X.append([score[0], score[1], new_run[0], new_run[1]])\n",
    "                y.append(timeout_check(game, score))\n",
    "    return np.array(X), np.array(y)\n",
    "        \n",
    "    "
   ]
  },
  {
   "cell_type": "code",
   "execution_count": 323,
   "metadata": {},
   "outputs": [],
   "source": [
    "# This method will return a 1 if a timeout was called at that score in that game\n",
    "def timeout_check(game, score):\n",
    "    score = tuple(score)\n",
    "    timeouts = []\n",
    "    timeouts.extend([\n",
    "        tuple(timeout) for timeout in game.get('left_timeouts', [])\n",
    "    ])\n",
    "    timeouts.extend([\n",
    "        tuple(timeout) for timeout in game.get('right_timeouts', [])\n",
    "    ])\n",
    "    timeouts.extend([\n",
    "        tuple(timeout) for timeout in game.get('middle_timeouts', [])\n",
    "    ])\n",
    "    if score in timeouts:\n",
    "        return 1\n",
    "    else:\n",
    "        return 0\n",
    "            \n",
    "            \n",
    "        \n",
    "        "
   ]
  },
  {
   "cell_type": "code",
   "execution_count": 324,
   "metadata": {},
   "outputs": [
    {
     "name": "stdout",
     "output_type": "stream",
     "text": [
      "base_score 0.9705318714460746\n",
      "0.9705318714460746\n"
     ]
    },
    {
     "name": "stderr",
     "output_type": "stream",
     "text": [
      "[Parallel(n_jobs=1)]: Using backend SequentialBackend with 1 concurrent workers.\n",
      "[Parallel(n_jobs=1)]: Done   1 out of   1 | elapsed:    0.1s finished\n"
     ]
    }
   ],
   "source": [
    "def train_logistic_regression(X, y):\n",
    "    model = sklearn.linear_model.LogisticRegression(verbose=1, solver='lbfgs')\n",
    "    model.fit(X, y)\n",
    "    return model, model.score(X, y)\n",
    "\n",
    "X, y = get_feature_point_run(GAMES)\n",
    "logistic_model, score = train_logistic_regression(X, y)\n",
    "print \"base_score\", 1.0 - np.mean(y)\n",
    "print score"
   ]
  },
  {
   "cell_type": "code",
   "execution_count": null,
   "metadata": {},
   "outputs": [],
   "source": []
  },
  {
   "cell_type": "code",
   "execution_count": 325,
   "metadata": {},
   "outputs": [
    {
     "data": {
      "text/plain": [
       "array([0])"
      ]
     },
     "execution_count": 325,
     "metadata": {},
     "output_type": "execute_result"
    }
   ],
   "source": [
    "logistic_model.predict([[10, 4, 6, 0]])"
   ]
  }
 ],
 "metadata": {
  "kernelspec": {
   "display_name": "Python 2",
   "language": "python",
   "name": "python2"
  },
  "language_info": {
   "codemirror_mode": {
    "name": "ipython",
    "version": 2
   },
   "file_extension": ".py",
   "mimetype": "text/x-python",
   "name": "python",
   "nbconvert_exporter": "python",
   "pygments_lexer": "ipython2",
   "version": "2.7.15"
  }
 },
 "nbformat": 4,
 "nbformat_minor": 2
}
